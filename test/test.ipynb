{
 "cells": [
  {
   "cell_type": "code",
   "execution_count": 2,
   "metadata": {},
   "outputs": [],
   "source": [
    "'''\n",
    "@File    :   test.ipynb\n",
    "@Time    :   2023/11/11 20:06:51\n",
    "@Author  :   Yangjh\n",
    "@Version :   0.1\n",
    "@Site    :   https://yangzh.cn\n",
    "@Desc    :   None\n",
    "'''\n",
    "\n",
    "import git\n",
    "import pandas as pd\n"
   ]
  },
  {
   "cell_type": "code",
   "execution_count": 6,
   "metadata": {},
   "outputs": [],
   "source": [
    "仓库信息 = pd.read_csv('仓库信息.csv')\n"
   ]
  },
  {
   "cell_type": "code",
   "execution_count": null,
   "metadata": {},
   "outputs": [],
   "source": [
    "for index,row in 仓库信息.iterrows():\n",
    "  print(row['学号'],row['姓名'],row['仓库地址'])\n",
    "  git.Repo.clone_from(row['仓库地址'],f\"../2020级卓越新闻实验班/{row['学号']}-{row['姓名']}/\")\n"
   ]
  },
  {
   "cell_type": "code",
   "execution_count": null,
   "metadata": {},
   "outputs": [],
   "source": []
  }
 ],
 "metadata": {
  "kernelspec": {
   "display_name": "Python 3",
   "language": "python",
   "name": "python3"
  },
  "language_info": {
   "codemirror_mode": {
    "name": "ipython",
    "version": 3
   },
   "file_extension": ".py",
   "mimetype": "text/x-python",
   "name": "python",
   "nbconvert_exporter": "python",
   "pygments_lexer": "ipython3",
   "version": "3.8.10"
  }
 },
 "nbformat": 4,
 "nbformat_minor": 2
}
